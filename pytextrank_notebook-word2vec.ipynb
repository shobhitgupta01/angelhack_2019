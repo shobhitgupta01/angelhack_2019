{
 "cells": [
  {
   "cell_type": "markdown",
   "metadata": {},
   "source": [
    "### Stage 1:\n",
    "Perform statistical parsing/tagging on a document in JSON format\n",
    "\n",
    "INPUTS: JSON doc for the text input  \n",
    "OUTPUT: JSON format `ParsedGraf(id, sha1, graf)`"
   ]
  },
  {
   "cell_type": "code",
   "execution_count": 1,
   "metadata": {},
   "outputs": [],
   "source": [
    "import ast\n",
    "from cmd_pytextrank import pytextrank\n",
    "import sys"
   ]
  },
  {
   "cell_type": "code",
   "execution_count": 2,
   "metadata": {},
   "outputs": [],
   "source": [
    "def get_key_terms(text_doc):\n",
    "    path_stage1 = \"o1.json\"\n",
    "    with open(path_stage1, 'w') as f:\n",
    "        for graf in pytextrank.parse_doc(pytextrank.json_iter(text_doc)):\n",
    "            f.write(\"%s\\n\" % pytextrank.pretty_print(graf._asdict()))\n",
    "\n",
    "    graph, ranks = pytextrank.text_rank(path_stage1)\n",
    "    pytextrank.render_ranks(graph, ranks)\n",
    "\n",
    "    result = []\n",
    "    count = 0;\n",
    "    for rl in pytextrank.normalize_key_phrases(path_stage1, ranks):\n",
    "        count += 1\n",
    "#         if count>5: break\n",
    "#         print(pytextrank.pretty_print(rl))\n",
    "        result.append(ast.literal_eval(pytextrank.pretty_print(rl))[:2])\n",
    "        \n",
    "    return result"
   ]
  },
  {
   "cell_type": "code",
   "execution_count": 25,
   "metadata": {},
   "outputs": [
    {
     "name": "stdout",
     "output_type": "stream",
     "text": [
      "42\n"
     ]
    }
   ],
   "source": [
    "text_doc = \"./test_data/news_group1.json\"\n",
    "key_terms = get_key_terms(text_doc)\n",
    "print(len(key_terms))"
   ]
  },
  {
   "cell_type": "code",
   "execution_count": 7,
   "metadata": {},
   "outputs": [],
   "source": [
    "import spacy\n",
    "nlp = spacy.load('en_core_web_md')"
   ]
  },
  {
   "cell_type": "code",
   "execution_count": 26,
   "metadata": {},
   "outputs": [
    {
     "name": "stdout",
     "output_type": "stream",
     "text": [
      "50\n"
     ]
    }
   ],
   "source": [
    "# words = []\n",
    "# for x in key_terms:\n",
    "#     for y in x[0].split(\" \"):\n",
    "#         words.append(y)\n",
    "# print(len(words))"
   ]
  },
  {
   "cell_type": "code",
   "execution_count": 21,
   "metadata": {},
   "outputs": [],
   "source": [
    "# nlp('apple').vector"
   ]
  },
  {
   "cell_type": "code",
   "execution_count": 16,
   "metadata": {},
   "outputs": [
    {
     "ename": "TypeError",
     "evalue": "cluster() got an unexpected keyword argument 'avoid_empty_cluster'",
     "output_type": "error",
     "traceback": [
      "\u001b[0;31m---------------------------------------------------------------------------\u001b[0m",
      "\u001b[0;31mTypeError\u001b[0m                                 Traceback (most recent call last)",
      "\u001b[0;32m<ipython-input-16-cb1d5c6d165f>\u001b[0m in \u001b[0;36m<module>\u001b[0;34m\u001b[0m\n\u001b[1;32m      3\u001b[0m \u001b[0mNUM_CLUSTERS\u001b[0m\u001b[0;34m=\u001b[0m\u001b[0;36m5\u001b[0m\u001b[0;34m\u001b[0m\u001b[0;34m\u001b[0m\u001b[0m\n\u001b[1;32m      4\u001b[0m \u001b[0mkclusterer\u001b[0m \u001b[0;34m=\u001b[0m \u001b[0mKMeansClusterer\u001b[0m\u001b[0;34m(\u001b[0m\u001b[0mNUM_CLUSTERS\u001b[0m\u001b[0;34m,\u001b[0m \u001b[0mdistance\u001b[0m\u001b[0;34m=\u001b[0m\u001b[0mnltk\u001b[0m\u001b[0;34m.\u001b[0m\u001b[0mcluster\u001b[0m\u001b[0;34m.\u001b[0m\u001b[0mutil\u001b[0m\u001b[0;34m.\u001b[0m\u001b[0mcosine_distance\u001b[0m\u001b[0;34m,\u001b[0m \u001b[0mrepeats\u001b[0m\u001b[0;34m=\u001b[0m\u001b[0;36m25\u001b[0m\u001b[0;34m)\u001b[0m\u001b[0;34m\u001b[0m\u001b[0;34m\u001b[0m\u001b[0m\n\u001b[0;32m----> 5\u001b[0;31m \u001b[0massigned_clusters\u001b[0m \u001b[0;34m=\u001b[0m \u001b[0mkclusterer\u001b[0m\u001b[0;34m.\u001b[0m\u001b[0mcluster\u001b[0m\u001b[0;34m(\u001b[0m\u001b[0mword_vectors\u001b[0m\u001b[0;34m,\u001b[0m \u001b[0massign_clusters\u001b[0m\u001b[0;34m=\u001b[0m\u001b[0;32mTrue\u001b[0m\u001b[0;34m,\u001b[0m \u001b[0mavoid_empty_cluster\u001b[0m\u001b[0;34m=\u001b[0m\u001b[0;32mTrue\u001b[0m\u001b[0;34m)\u001b[0m\u001b[0;34m\u001b[0m\u001b[0;34m\u001b[0m\u001b[0m\n\u001b[0m\u001b[1;32m      6\u001b[0m \u001b[0mprint\u001b[0m \u001b[0;34m(\u001b[0m\u001b[0massigned_clusters\u001b[0m\u001b[0;34m)\u001b[0m\u001b[0;34m\u001b[0m\u001b[0;34m\u001b[0m\u001b[0m\n",
      "\u001b[0;31mTypeError\u001b[0m: cluster() got an unexpected keyword argument 'avoid_empty_cluster'"
     ]
    }
   ],
   "source": [
    "from nltk.cluster import KMeansClusterer\n",
    "import nltk\n",
    "NUM_CLUSTERS=5\n",
    "kclusterer = KMeansClusterer(NUM_CLUSTERS, distance=nltk.cluster.util.cosine_distance, repeats=25)\n",
    "assigned_clusters = kclusterer.cluster(word_vectors, assign_clusters=True)\n",
    "print (assigned_clusters)"
   ]
  },
  {
   "cell_type": "code",
   "execution_count": 17,
   "metadata": {},
   "outputs": [],
   "source": [
    "from sklearn import cluster\n",
    "from sklearn import metrics\n",
    "kmeans = cluster.KMeans(n_clusters=NUM_CLUSTERS)\n",
    "kmeans.fit(word_vectors)\n",
    " \n",
    "labels = kmeans.labels_\n",
    "centroids = kmeans.cluster_centers_"
   ]
  },
  {
   "cell_type": "code",
   "execution_count": null,
   "metadata": {},
   "outputs": [],
   "source": []
  },
  {
   "cell_type": "code",
   "execution_count": 20,
   "metadata": {},
   "outputs": [
    {
     "name": "stdout",
     "output_type": "stream",
     "text": [
      "Cluster id labels for inputted data\n",
      "[2 1 2 4 2 0 0 0 0 3 1 0 4 0 0 1 4 4 0 0 4 0 0 0 2 2 2 4 4 0 0 2 3 4 4 2 0\n",
      " 2 0 0 3 4]\n",
      "Centroids data\n",
      "[[ 0.07589516  0.11340641  0.04369762 ...  0.08499742 -0.07448617\n",
      "   0.00815011]\n",
      " [ 0.1818      0.1048935   0.0406     ...  0.10874875  0.16686051\n",
      "   0.32704001]\n",
      " [ 0.32438943  0.33282678 -0.07430638 ... -0.05602555  0.20864282\n",
      "   0.19725547]\n",
      " [ 0.2693588  -0.03567133  0.15932334 ...  0.17990966  0.0201788\n",
      "  -0.15116334]\n",
      " [-0.04187154  0.06686923 -0.39417037 ... -0.04828533  0.01197026\n",
      "   0.37658137]]\n",
      "Score (Opposite of the value of X on the K-means objective which is Sum of distances of samples to their closest cluster center):\n"
     ]
    }
   ],
   "source": [
    "print (\"Cluster id labels for inputted data\")\n",
    "print (labels)\n",
    "print (\"Centroids data\")\n",
    "print (centroids)\n",
    " \n",
    "print (\"Score (Opposite of the value of X on the K-means objective which is Sum of distances of samples to their closest cluster center):\")\n",
    "# print (kmeans.score(X))"
   ]
  },
  {
   "cell_type": "code",
   "execution_count": 28,
   "metadata": {},
   "outputs": [
    {
     "name": "stdout",
     "output_type": "stream",
     "text": [
      "['car', 0.08623640497600257] 2\n",
      "['engine specs', 0.05427824354964387] 1\n",
      "['looking car', 0.05208175460255698] 2\n",
      "['model name', 0.047578672329223304] 4\n",
      "['sports car', 0.043118202488001287] 2\n",
      "['production', 0.04090044141323622] 0\n",
      "['early 70s', 0.04031687230572975] 0\n",
      "['years', 0.04009683900070784] 0\n",
      "['other day', 0.03508202358741993] 0\n",
      "['college park', 0.03471230409210795] 3\n",
      "['specs', 0.027139121774821934] 1\n",
      "['lines', 0.026747576710051287] 0\n",
      "['looking', 0.02604087730127849] 4\n",
      "['history', 0.02554701357070712] 0\n",
      "['body', 0.024240950693103475] 0\n",
      "['engine', 0.024023955480460015] 1\n",
      "['name', 0.023789336164611652] 4\n",
      "['tellme', 0.023238034492637467] 4\n",
      "['rest', 0.020497370301711896] 0\n",
      "['70s', 0.020158436152864875] 0\n",
      "['anyone', 0.019317106329831187] 4\n",
      "['bricklin', 0.019317106329831187] 0\n",
      "['made', 0.01777142710639794] 0\n",
      "['day', 0.017541011793709965] 0\n",
      "['front bumper', 0.017500737001061792] 2\n",
      "['park', 0.017356152046053976] 2\n",
      "['model', 0.016694268845221214] 2\n",
      "['subject', 0.015693877984740062] 4\n",
      "['e-mail', 0.014148198761306815] 4\n",
      "['doors', 0.013636825856625213] 0\n",
      "['organization', 0.012614279644967474] 0\n",
      "['maryland', 0.012614279644967474] 2\n",
      "['college', 0.012179712361011286] 3\n",
      "['thing', 0.01044164127340373] 4\n",
      "['wondering', 0.01044164127340373] 4\n",
      "['sports', 0.01044164127340373] 2\n",
      "['called', 0.01044164127340373] 0\n",
      "['bumper', 0.008750368500530896] 2\n",
      "['lerxst@wam.umd.edu', 0.006818412928312607] 0\n",
      "['rac3.wam.umd.edu', 0.006818412928312607] 0\n",
      "['university', 0.006818412928312607] 3\n",
      "['info', 0.006818412928312607] 4\n"
     ]
    }
   ],
   "source": [
    "for i, word in enumerate(key_terms):\n",
    "    print(word, labels[i])"
   ]
  },
  {
   "cell_type": "code",
   "execution_count": null,
   "metadata": {},
   "outputs": [],
   "source": [
    "import spacy\n",
    "\n",
    "# Load the spacy vocabulary\n",
    "nlp = spacy.load(\"en_core_web_md\")"
   ]
  },
  {
   "cell_type": "code",
   "execution_count": 54,
   "metadata": {},
   "outputs": [
    {
     "name": "stdout",
     "output_type": "stream",
     "text": [
      "['apple', 'mango', 'banana\\n']\n"
     ]
    }
   ],
   "source": [
    "news_topics = []\n",
    "with open('word_list.csv', 'r') as f:\n",
    "    for x in f.read().split(','):\n",
    "        news_topics.append(x)\n",
    "print(news_topics)"
   ]
  },
  {
   "cell_type": "code",
   "execution_count": null,
   "metadata": {},
   "outputs": [],
   "source": []
  },
  {
   "cell_type": "code",
   "execution_count": null,
   "metadata": {},
   "outputs": [],
   "source": []
  },
  {
   "cell_type": "code",
   "execution_count": 58,
   "metadata": {},
   "outputs": [
    {
     "name": "stdout",
     "output_type": "stream",
     "text": [
      "1\n",
      "684830\n",
      "156\n",
      "sure\n"
     ]
    }
   ],
   "source": [
    "from scipy.spatial import distance\n",
    "import numpy as np\n",
    "\n",
    "\n",
    "# Format the input vector for use in the distance function\n",
    "# In this case we will artificially create a word vector from a real word (\"frog\")\n",
    "# but any derived word vector could be used\n",
    "p = np.array([centroids[4]])\n",
    "print(len(p))\n",
    "# Format the vocabulary for use in the distance function\n",
    "ids = [x for x in nlp.vocab.vectors.keys()]\n",
    "print(len(ids))\n",
    "\n",
    "vectors = [nlp.vocab.vectors[x] for x in ids]\n",
    "vectors = np.array(vectors)\n",
    "\n",
    "# *** Find the closest word below ***\n",
    "closest_index = distance.cdist(p, vectors).argmin()\n",
    "print(closest_index)\n",
    "word_id = ids[closest_index]\n",
    "output_word = nlp.vocab[word_id].text\n",
    "print(output_word)\n",
    "# output_word is identical, or very close, to the input word"
   ]
  },
  {
   "cell_type": "code",
   "execution_count": 63,
   "metadata": {},
   "outputs": [
    {
     "data": {
      "text/plain": [
       "18446743695545242228"
      ]
     },
     "execution_count": 63,
     "metadata": {},
     "output_type": "execute_result"
    }
   ],
   "source": [
    "max(ids)"
   ]
  },
  {
   "cell_type": "code",
   "execution_count": 43,
   "metadata": {},
   "outputs": [
    {
     "name": "stdout",
     "output_type": "stream",
     "text": [
      "1\n",
      "684830\n",
      "sure\n"
     ]
    }
   ],
   "source": [
    "from scipy.spatial import distance\n",
    "import numpy as np\n",
    "\n",
    "\n",
    "# Format the input vector for use in the distance function\n",
    "# In this case we will artificially create a word vector from a real word (\"frog\")\n",
    "# but any derived word vector could be used\n",
    "p = np.array([centroids[4]])\n",
    "print(len(p))\n",
    "# Format the vocabulary for use in the distance function\n",
    "ids = [x for x in nlp.vocab.vectors.keys()]\n",
    "print(len(ids))\n",
    "\n",
    "vectors = [nlp.vocab.vectors[x] for x in ids]\n",
    "vectors = np.array(vectors)\n",
    "\n",
    "# *** Find the closest word below ***\n",
    "closest_index = distance.cdist(p, vectors).argmin()\n",
    "word_id = ids[closest_index]\n",
    "output_word = nlp.vocab[word_id].text\n",
    "print(output_word)\n",
    "# output_word is identical, or very close, to the input word"
   ]
  },
  {
   "cell_type": "code",
   "execution_count": 36,
   "metadata": {},
   "outputs": [
    {
     "data": {
      "text/plain": [
       "'same'"
      ]
     },
     "execution_count": 36,
     "metadata": {},
     "output_type": "execute_result"
    }
   ],
   "source": [
    "output_word"
   ]
  },
  {
   "cell_type": "code",
   "execution_count": 71,
   "metadata": {},
   "outputs": [
    {
     "name": "stdout",
     "output_type": "stream",
     "text": [
      "<spacy.lexeme.Lexeme object at 0x7f3f36dc4c60>\n",
      "<spacy.lexeme.Lexeme object at 0x7f3f36dc4b40>\n",
      "<spacy.lexeme.Lexeme object at 0x7f3f36dc4c60>\n",
      "<spacy.lexeme.Lexeme object at 0x7f3f36dc4b40>\n",
      "<spacy.lexeme.Lexeme object at 0x7f3f36dc4c60>\n",
      "<spacy.lexeme.Lexeme object at 0x7f3f36dc4b40>\n",
      "<spacy.lexeme.Lexeme object at 0x7f3f36dc4c60>\n",
      "<spacy.lexeme.Lexeme object at 0x7f3f36dc4b40>\n",
      "<spacy.lexeme.Lexeme object at 0x7f3f36dc4c60>\n",
      "<spacy.lexeme.Lexeme object at 0x7f3f36dc4b40>\n",
      "<spacy.lexeme.Lexeme object at 0x7f3f36dc4c60>\n",
      "<spacy.lexeme.Lexeme object at 0x7f3f36dc4b40>\n",
      "<spacy.lexeme.Lexeme object at 0x7f3f36dc4c60>\n",
      "<spacy.lexeme.Lexeme object at 0x7f3f36dc4b40>\n",
      "<spacy.lexeme.Lexeme object at 0x7f3f36dc4c60>\n",
      "<spacy.lexeme.Lexeme object at 0x7f3f36dc4b40>\n",
      "<spacy.lexeme.Lexeme object at 0x7f3f36dc4c60>\n",
      "<spacy.lexeme.Lexeme object at 0x7f3f36dc4b40>\n",
      "<spacy.lexeme.Lexeme object at 0x7f3f36dc4c60>\n",
      "<spacy.lexeme.Lexeme object at 0x7f3f36dc4b40>\n",
      "<spacy.lexeme.Lexeme object at 0x7f3f36dc4c60>\n",
      "<spacy.lexeme.Lexeme object at 0x7f3f36dc4b40>\n",
      "<spacy.lexeme.Lexeme object at 0x7f3f36dc4c60>\n",
      "<spacy.lexeme.Lexeme object at 0x7f3f36dc4b40>\n",
      "<spacy.lexeme.Lexeme object at 0x7f3f36dc4c60>\n",
      "<spacy.lexeme.Lexeme object at 0x7f3f36dc4b40>\n",
      "<spacy.lexeme.Lexeme object at 0x7f3f36dc4c60>\n",
      "<spacy.lexeme.Lexeme object at 0x7f3f36dc4b40>\n",
      "<spacy.lexeme.Lexeme object at 0x7f3f36dc4c60>\n",
      "<spacy.lexeme.Lexeme object at 0x7f3f36dc4b40>\n",
      "<spacy.lexeme.Lexeme object at 0x7f3f36dc4c60>\n",
      "<spacy.lexeme.Lexeme object at 0x7f3f36dc4b40>\n",
      "<spacy.lexeme.Lexeme object at 0x7f3f36dc4c60>\n",
      "<spacy.lexeme.Lexeme object at 0x7f3f36dc4b40>\n",
      "<spacy.lexeme.Lexeme object at 0x7f3f36dc4c60>\n",
      "<spacy.lexeme.Lexeme object at 0x7f3f36dc4b40>\n",
      "<spacy.lexeme.Lexeme object at 0x7f3f36dc4c60>\n",
      "<spacy.lexeme.Lexeme object at 0x7f3f36dc4b40>\n",
      "<spacy.lexeme.Lexeme object at 0x7f3f36dc4c60>\n",
      "<spacy.lexeme.Lexeme object at 0x7f3f36dc4b40>\n",
      "<spacy.lexeme.Lexeme object at 0x7f3f36dc4c60>\n",
      "<spacy.lexeme.Lexeme object at 0x7f3f36dc4b40>\n",
      "<spacy.lexeme.Lexeme object at 0x7f3f36dc4c60>\n",
      "<spacy.lexeme.Lexeme object at 0x7f3f36dc4b40>\n",
      "<spacy.lexeme.Lexeme object at 0x7f3f36dc4c60>\n",
      "<spacy.lexeme.Lexeme object at 0x7f3f36dc4b40>\n",
      "<spacy.lexeme.Lexeme object at 0x7f3f36dc4c60>\n",
      "<spacy.lexeme.Lexeme object at 0x7f3f36dc4b40>\n",
      "<spacy.lexeme.Lexeme object at 0x7f3f36dc4c60>\n",
      "<spacy.lexeme.Lexeme object at 0x7f3f36dc4b40>\n",
      "<spacy.lexeme.Lexeme object at 0x7f3f36dc4c60>\n",
      "<spacy.lexeme.Lexeme object at 0x7f3f36dc4b40>\n",
      "<spacy.lexeme.Lexeme object at 0x7f3f36dc4c60>\n",
      "<spacy.lexeme.Lexeme object at 0x7f3f36dc4b40>\n",
      "<spacy.lexeme.Lexeme object at 0x7f3f36dc4c60>\n",
      "<spacy.lexeme.Lexeme object at 0x7f3f36dc4b40>\n",
      "<spacy.lexeme.Lexeme object at 0x7f3f36dc4c60>\n",
      "<spacy.lexeme.Lexeme object at 0x7f3f36dc4b40>\n",
      "<spacy.lexeme.Lexeme object at 0x7f3f36dc4c60>\n",
      "<spacy.lexeme.Lexeme object at 0x7f3f36dc4b40>\n",
      "<spacy.lexeme.Lexeme object at 0x7f3f36dc4c60>\n",
      "<spacy.lexeme.Lexeme object at 0x7f3f36dc4b40>\n",
      "<spacy.lexeme.Lexeme object at 0x7f3f36dc4c60>\n",
      "<spacy.lexeme.Lexeme object at 0x7f3f36dc4b40>\n",
      "<spacy.lexeme.Lexeme object at 0x7f3f36dc4c60>\n",
      "<spacy.lexeme.Lexeme object at 0x7f3f36dc4b40>\n",
      "<spacy.lexeme.Lexeme object at 0x7f3f36dc4c60>\n",
      "<spacy.lexeme.Lexeme object at 0x7f3f36dc4b40>\n",
      "<spacy.lexeme.Lexeme object at 0x7f3f36dc4c60>\n",
      "<spacy.lexeme.Lexeme object at 0x7f3f36dc4b40>\n",
      "<spacy.lexeme.Lexeme object at 0x7f3f36dc4c60>\n",
      "<spacy.lexeme.Lexeme object at 0x7f3f36dc4b40>\n",
      "<spacy.lexeme.Lexeme object at 0x7f3f36dc4c60>\n",
      "<spacy.lexeme.Lexeme object at 0x7f3f36dc4b40>\n",
      "<spacy.lexeme.Lexeme object at 0x7f3f36dc4c60>\n",
      "<spacy.lexeme.Lexeme object at 0x7f3f36dc4b40>\n",
      "<spacy.lexeme.Lexeme object at 0x7f3f36dc4c60>\n",
      "<spacy.lexeme.Lexeme object at 0x7f3f36dc4b40>\n",
      "<spacy.lexeme.Lexeme object at 0x7f3f36dc4c60>\n",
      "<spacy.lexeme.Lexeme object at 0x7f3f36dc4b40>\n",
      "<spacy.lexeme.Lexeme object at 0x7f3f36dc4c60>\n",
      "<spacy.lexeme.Lexeme object at 0x7f3f36dc4b40>\n",
      "<spacy.lexeme.Lexeme object at 0x7f3f36dc4c60>\n",
      "<spacy.lexeme.Lexeme object at 0x7f3f36dc4b40>\n",
      "<spacy.lexeme.Lexeme object at 0x7f3f36dc4c60>\n",
      "<spacy.lexeme.Lexeme object at 0x7f3f36dc4b40>\n",
      "<spacy.lexeme.Lexeme object at 0x7f3f36dc4c60>\n",
      "<spacy.lexeme.Lexeme object at 0x7f3f36dc4b40>\n",
      "<spacy.lexeme.Lexeme object at 0x7f3f36dc4c60>\n",
      "<spacy.lexeme.Lexeme object at 0x7f3f36dc4b40>\n",
      "<spacy.lexeme.Lexeme object at 0x7f3f36dc4c60>\n",
      "<spacy.lexeme.Lexeme object at 0x7f3f36dc4b40>\n",
      "<spacy.lexeme.Lexeme object at 0x7f3f36dc4c60>\n",
      "<spacy.lexeme.Lexeme object at 0x7f3f36dc4b40>\n",
      "<spacy.lexeme.Lexeme object at 0x7f3f36dc4c60>\n",
      "<spacy.lexeme.Lexeme object at 0x7f3f36dc4b40>\n",
      "<spacy.lexeme.Lexeme object at 0x7f3f36dc4c60>\n",
      "<spacy.lexeme.Lexeme object at 0x7f3f36dc4b40>\n",
      "<spacy.lexeme.Lexeme object at 0x7f3f36dc4c60>\n"
     ]
    }
   ],
   "source": [
    "count = 0\n",
    "for x in nlp.vocab:\n",
    "    count += 1\n",
    "    if count >= 100: break\n",
    "    print(x)"
   ]
  },
  {
   "cell_type": "code",
   "execution_count": null,
   "metadata": {},
   "outputs": [],
   "source": []
  }
 ],
 "metadata": {
  "kernelspec": {
   "display_name": "Python 3",
   "language": "python",
   "name": "python3"
  },
  "language_info": {
   "codemirror_mode": {
    "name": "ipython",
    "version": 3
   },
   "file_extension": ".py",
   "mimetype": "text/x-python",
   "name": "python",
   "nbconvert_exporter": "python",
   "pygments_lexer": "ipython3",
   "version": "3.6.7"
  }
 },
 "nbformat": 4,
 "nbformat_minor": 1
}
